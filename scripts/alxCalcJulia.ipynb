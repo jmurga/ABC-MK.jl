{
 "cells": [
  {
   "cell_type": "markdown",
   "metadata": {},
   "source": [
    "Loading module. All the calculations need to be performed calling the functions through the module (*Analytical.functionName*)"
   ]
  },
  {
   "cell_type": "code",
   "execution_count": null,
   "metadata": {},
   "outputs": [],
   "source": [
    "using Analytical\n",
    "using PyPlot\n",
    "using BenchmarkTools\n",
    "\n",
    "function asympPlot(alphaValues,originalAsymp)\n",
    "    fig    = plt.figure(figsize=(8, 6))\n",
    "    plt.style.use(\"seaborn\")\n",
    "\n",
    "    x      = 1:size(alphaValues)[1]\n",
    "    y1     = alphaValues[:,1]\n",
    "    y2     = alphaValues[:,2]\n",
    "\n",
    "    plt.plot(x, y1,\"-\",color=\"#91d5db\")\n",
    "    plt.plot(x, y1,\"o\",color=\"#91d5db\")\n",
    "    plt.plot(x, y2,\"-\",color=\"#fab4be\")\n",
    "    plt.plot(x, y2,\"o\",color=\"#fab4be\")\n",
    "    plt.plot(x, fill(originalAsymp,size(alphaValues)[1]),\"-.\",color=\"gray\")\n",
    "    plt.grid()\n",
    "    plt.xscale(\"log\")\n",
    "    plt.xlim(0,60)\n",
    "    # plt.ylim((y1.min() - (y1.min()*50/100)),0.25)\n",
    "    plt.xticks([1,2,5,10,20,50],[1,2,5,10,20,50])\n",
    "    plt.grid()\n",
    "\n",
    "    return(fig)\n",
    "end"
   ]
  },
  {
   "cell_type": "markdown",
   "metadata": {},
   "source": [
    "The variable *adap* contains all parameters needed to estimate $\\alpha_{x}$ under $N$ conditions. You can change *adap* default values to another ones using the functions *Analytical.changeParameters*. If you do not declare options it will use the default values. "
   ]
  },
  {
   "cell_type": "code",
   "execution_count": 14,
   "metadata": {
    "scrolled": true
   },
   "outputs": [
    {
     "data": {
      "text/plain": [
       "Analytical.parameters\n",
       "  gam_neg: Int64 -83\n",
       "  gL: Int64 10\n",
       "  gH: Int64 500\n",
       "  alLow: Float64 0.2\n",
       "  alTot: Float64 0.2\n",
       "  theta_f: Float64 0.001\n",
       "  theta_mid_neutral: Float64 0.001\n",
       "  al: Float64 0.184\n",
       "  be: Float64 0.000402\n",
       "  B: Float64 0.999\n",
       "  pposL: Float64 0.001\n",
       "  pposH: Float64 0.0\n",
       "  N: Int64 500\n",
       "  n: Int64 25\n",
       "  Lf: Int64 1000000\n",
       "  L_mid: Int64 501\n",
       "  rho: Float64 0.001\n",
       "  al2: Float64 0.0415\n",
       "  be2: Float64 0.00515625\n",
       "  TE: Float64 5.0\n",
       "  ABC: Bool false\n",
       "  NN: Int64 1000\n",
       "  nn: Int64 50\n",
       "  bn: Array{Float64}((51, 1000)) [1.0 0.951158 … 1.0513e-150 0.0; 0.0 0.0476532 … 5.24597e-146 0.0; … ; 0.0 5.24597e-146 … 0.0476532 0.0; 0.0 1.0513e-150 … 0.951158 1.0]\n"
      ]
     },
     "execution_count": 14,
     "metadata": {},
     "output_type": "execute_result"
    }
   ],
   "source": [
    "adap"
   ]
  },
  {
   "cell_type": "code",
   "execution_count": 15,
   "metadata": {},
   "outputs": [
    {
     "data": {
      "text/plain": [
       "(\"Parameters changed to gam_neg:\", -83, \"gL\", 10, \" gH:\", 500, \" alLow:\", 0.2, \" alTot:\", 0.2, \" theta_f:\", 0.001, \"theta_mid_neutral:\", 0.001, \" al:\", 0.184, \" be:\", 0.000402, \" B:\", 0.999, \" pposL:\", 0.001, \" pposH:\", 0.0, \"N:\", 500, \" n:\", 25, \" Lf:\", 1000000, \" L_mid:\", 501, \" rho:\", 0.001, \" al2:\", 0.0415, \" be2:\", 0.00515625, \" TE:\", 5.0, \" ABC:\", false)"
      ]
     },
     "execution_count": 15,
     "metadata": {},
     "output_type": "execute_result"
    }
   ],
   "source": [
    "Analytical.changeParameters(gam_neg=-83,gL=10,gH=500,alLow=0.2,alTot=0.2,theta_f=1e-3,theta_mid_neutral=1e-3,al=0.184,be=0.000402,B=0.999,pposL=0.001,pposH=0,N=500,n=25,Lf=10^6,L_mid=501,rho=0.001,al2= 0.0415,be2=0.00515625,TE=5.0,ABC=false)"
   ]
  },
  {
   "cell_type": "code",
   "execution_count": 16,
   "metadata": {},
   "outputs": [
    {
     "data": {
      "text/plain": [
       "Analytical.parameters\n",
       "  gam_neg: Int64 -83\n",
       "  gL: Int64 10\n",
       "  gH: Int64 500\n",
       "  alLow: Float64 0.2\n",
       "  alTot: Float64 0.2\n",
       "  theta_f: Float64 0.001\n",
       "  theta_mid_neutral: Float64 0.001\n",
       "  al: Float64 0.184\n",
       "  be: Float64 0.000402\n",
       "  B: Float64 0.999\n",
       "  pposL: Float64 0.001\n",
       "  pposH: Float64 0.0\n",
       "  N: Int64 500\n",
       "  n: Int64 25\n",
       "  Lf: Int64 1000000\n",
       "  L_mid: Int64 501\n",
       "  rho: Float64 0.001\n",
       "  al2: Float64 0.0415\n",
       "  be2: Float64 0.00515625\n",
       "  TE: Float64 5.0\n",
       "  ABC: Bool false\n",
       "  NN: Int64 1000\n",
       "  nn: Int64 50\n",
       "  bn: Array{Float64}((51, 1000)) [1.0 0.951158 … 1.0513e-150 0.0; 0.0 0.0476532 … 5.24597e-146 0.0; … ; 0.0 5.24597e-146 … 0.0476532 0.0; 0.0 1.0513e-150 … 0.951158 1.0]\n"
      ]
     },
     "execution_count": 16,
     "metadata": {},
     "output_type": "execute_result"
    }
   ],
   "source": [
    "adap"
   ]
  },
  {
   "cell_type": "markdown",
   "metadata": {},
   "source": [
    "Here the software calculates the mutation rates corresponding to the desired terms"
   ]
  },
  {
   "cell_type": "code",
   "execution_count": 18,
   "metadata": {},
   "outputs": [
    {
     "data": {
      "text/plain": [
       "0.999"
      ]
     },
     "execution_count": 18,
     "metadata": {},
     "output_type": "execute_result"
    }
   ],
   "source": [
    "Analytical.set_theta_f()\n",
    "theta_f = adap.theta_f\n",
    "adap.B = 0.999\n",
    "Analytical.set_theta_f()\n",
    "Analytical.setPpos()\n",
    "adap.theta_f = theta_f\n",
    "adap.B = 0.999"
   ]
  },
  {
   "cell_type": "markdown",
   "metadata": {},
   "source": [
    "Run the calcucation"
   ]
  },
  {
   "cell_type": "code",
   "execution_count": 24,
   "metadata": {},
   "outputs": [
    {
     "name": "stdout",
     "output_type": "stream",
     "text": [
      "  2.294 ms (26027 allocations: 503.59 KiB)\n"
     ]
    },
    {
     "data": {
      "text/plain": [
       "([-0.22122, -0.0986517, -0.0462206, -0.0153059, 0.00602722, 0.0220378, 0.0346916, 0.0450466, 0.0537335, 0.0611561  …  0.101811, 0.0990218, 0.0957664, 0.0919827, 0.0875967, 0.0825198, 0.0766458, 0.0698466, 0.0619684, 0.0528265], [0.00116874, 0.000821246, 0.000669683, 0.00057718, 0.000511663, 0.000461397, 0.00042086, 0.000387034, 0.0003581, 0.000332878  …  4.35477e-5, 3.88434e-5, 3.42452e-5, 2.97435e-5, 2.53282e-5, 2.0989e-5, 1.67148e-5, 1.24933e-5, 8.31102e-6, 4.15232e-6], [0.00113471, 0.000886283, 0.000758937, 0.000674022, 0.000610335, 0.000559386, 0.000516929, 0.000480537, 0.000448694, 0.000420389  …  5.11167e-5, 4.49034e-5, 3.8838e-5, 3.29137e-5, 2.7124e-5, 2.1463e-5, 1.59251e-5, 1.0505e-5, 5.19781e-6, 3.41354e-19], [0.0, 0.0, 0.0, 0.0, 0.0, 0.0, 0.0, 0.0, 0.0, 0.0  …  0.0, 0.0, 0.0, 0.0, 0.0, 0.0, 0.0, 0.0, 0.0, 0.0], [1.66015e-5, 1.44371e-5, 1.3305e-5, 1.2534e-5, 1.19433e-5, 1.14602e-5, 1.10484e-5, 1.06873e-5, 1.03638e-5, 1.00692e-5  …  3.79155e-6, 3.51021e-6, 3.20736e-6, 2.87897e-6, 2.5201e-6, 2.12472e-6, 1.68538e-6, 1.19287e-6, 6.3577e-7, 0.0], [0.00115214, 0.000806809, 0.000656378, 0.000564646, 0.000499719, 0.000449937, 0.000409811, 0.000376347, 0.000347736, 0.000322809  …  3.50519e-5, 3.0735e-5, 2.65361e-5, 2.24492e-5, 1.84689e-5, 1.459e-5, 1.08079e-5, 7.11815e-6, 3.51655e-6, 1.32984e-19], 0.000255, 0.0001720219632923828, 4.304853936245816e-5, 0.0)"
      ]
     },
     "execution_count": 24,
     "metadata": {},
     "output_type": "execute_result"
    }
   ],
   "source": [
    "@btime pos, nopos = Analytical.alphaByFrequencies(adap.gL,adap.gH,adap.pposL,adap.pposH)"
   ]
  }
 ],
 "metadata": {
  "kernelspec": {
   "display_name": "Julia 1.0.3",
   "language": "julia",
   "name": "julia-1.0"
  },
  "language_info": {
   "file_extension": ".jl",
   "mimetype": "application/julia",
   "name": "julia",
   "version": "1.0.3"
  }
 },
 "nbformat": 4,
 "nbformat_minor": 4
}
