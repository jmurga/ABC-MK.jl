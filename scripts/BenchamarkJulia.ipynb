{
 "cells": [
  {
   "cell_type": "markdown",
   "metadata": {},
   "source": [
    "Loading module. All the calculations need to be performed calling the functions through the module (*Analytical.functionName*)"
   ]
  },
  {
   "cell_type": "code",
   "execution_count": 1,
   "metadata": {},
   "outputs": [
    {
     "name": "stderr",
     "output_type": "stream",
     "text": [
      "┌ Info: Recompiling stale cache file /home/jmurga/.julia/compiled/v1.0/Analytical/9ng3D.ji for Analytical [1f0a6972-6dc4-11ea-3a4f-47f17d9e5175]\n",
      "└ @ Base loading.jl:1190\n",
      "┌ Info: Recompiling stale cache file /home/jmurga/.julia/compiled/v1.0/PyPlot/oatAj.ji for PyPlot [d330b81b-6aea-500a-939a-2ce795aea3ee]\n",
      "└ @ Base loading.jl:1190\n",
      "┌ Info: Recompiling stale cache file /home/jmurga/.julia/compiled/v1.0/BenchmarkTools/ZXPQo.ji for BenchmarkTools [6e4b80f9-dd63-53aa-95a3-0cdb28fa8baf]\n",
      "└ @ Base loading.jl:1190\n"
     ]
    },
    {
     "data": {
      "text/plain": [
       "bgsPlot (generic function with 1 method)"
      ]
     },
     "execution_count": 1,
     "metadata": {},
     "output_type": "execute_result"
    }
   ],
   "source": [
    "using Analytical\n",
    "using PyPlot\n",
    "using BenchmarkTools\n",
    "\n",
    "function asympPlot(alphaValues,originalAsymp)\n",
    "    fig    = plt.figure(figsize=(8, 6))\n",
    "    plt.style.use(\"seaborn\")\n",
    "\n",
    "    x      = 1:size(alphaValues)[1]\n",
    "    y1     = alphaValues[:,1]\n",
    "    y2     = alphaValues[:,2]\n",
    "\n",
    "    plt.plot(x, y1,\"-\",color=\"#91d5db\")\n",
    "    plt.plot(x, y1,\"o\",color=\"#91d5db\")\n",
    "    plt.plot(x, y2,\"-\",color=\"#fab4be\")\n",
    "    plt.plot(x, y2,\"o\",color=\"#fab4be\")\n",
    "    plt.plot(x, fill(originalAsymp,size(alphaValues)[1]),\"-.\",color=\"gray\")\n",
    "    plt.grid()\n",
    "    plt.xscale(\"log\")\n",
    "    plt.xlim(0,60)\n",
    "    # plt.ylim((y1.min() - (y1.min()*50/100)),0.25)\n",
    "    plt.xticks([1,2,5,10,20,50],[1,2,5,10,20,50])\n",
    "    plt.grid()\n",
    "\n",
    "    return(fig)\n",
    "end\n",
    "function bgsPlot(bgs1,bgs2,bgs3,bgs4,trueAlpha)\n",
    "    fig    = plt.figure(figsize=(8, 6))\n",
    "    plt.style.use(\"seaborn\")\n",
    "\n",
    "    x      = 1:length(bgs1)\n",
    "    y1     = bgs1\n",
    "    y2     = bgs2\n",
    "    y3     = bgs3\n",
    "    y4     = bgs4\n",
    "\n",
    "    plt.plot(x, y1,\"-\",color=\"blue\")\n",
    "    plt.plot(x, y2,\"-\",color=\"orange\")\n",
    "    plt.plot(x, y3,\"-\",color=\"yellow\")\n",
    "    plt.plot(x, y4,\"-\",color=\"red\")\n",
    "    plt.plot(x, fill(trueAlpha,length(bgs1)),\"-.\",color=\"gray\")\n",
    "    plt.grid()\n",
    "    plt.xscale(\"log\")\n",
    "    plt.xticks([1,2,5,10,20,50],[1,2,5,10,20,50])\n",
    "    plt.grid()\n",
    "\n",
    "    plt.xlim(0,60)\n",
    "\n",
    "    return fig\n",
    "end"
   ]
  },
  {
   "cell_type": "markdown",
   "metadata": {},
   "source": [
    "The variable *adap* contains all parameters needed to estimate $\\alpha_{x}$ under $N$ conditions. You can change *adap* default values to another ones using the functions *Analytical.changeParameters*. If you do not declare options it will use the default values. "
   ]
  },
  {
   "cell_type": "code",
   "execution_count": 2,
   "metadata": {
    "scrolled": true
   },
   "outputs": [
    {
     "data": {
      "text/plain": [
       "Analytical.parameters\n",
       "  gam_neg: Int64 -83\n",
       "  gL: Int64 10\n",
       "  gH: Int64 500\n",
       "  alLow: Float64 0.2\n",
       "  alTot: Float64 0.2\n",
       "  theta_f: Float64 0.001\n",
       "  theta_mid_neutral: Float64 0.001\n",
       "  al: Float64 0.184\n",
       "  be: Float64 0.000402\n",
       "  B: Float64 0.999\n",
       "  pposL: Float64 0.001\n",
       "  pposH: Float64 0.0\n",
       "  N: Int64 500\n",
       "  n: Int64 250\n",
       "  Lf: Int64 1000000\n",
       "  L_mid: Int64 501\n",
       "  rho: Float64 0.001\n",
       "  al2: Float64 0.0415\n",
       "  be2: Float64 0.00515625\n",
       "  TE: Float64 5.0\n",
       "  ABC: Bool false\n",
       "  NN: Int64 1000\n",
       "  nn: Int64 500\n",
       "  bn: Array{Float64}((500,)) [2.35641e-312, 4.68887e-310, 4.68887e-310, 4.68887e-310, NaN, 4.68887e-310, 0.0, 4.68887e-310, NaN, 4.68887e-310  …  0.0, 0.0, 2.0316e-320, 1.0326e-321, 6.95185e-310, 6.95185e-310, 1.4822e-323, 4.68887e-310, 0.0, 2.122e-314]\n"
      ]
     },
     "execution_count": 2,
     "metadata": {},
     "output_type": "execute_result"
    }
   ],
   "source": [
    "adap"
   ]
  },
  {
   "cell_type": "markdown",
   "metadata": {},
   "source": [
    "### Solving original approximation. Using default parameters provided at *al_x.py*: no bgs and 20% of alpha due to weak selection"
   ]
  },
  {
   "cell_type": "markdown",
   "metadata": {},
   "source": [
    "Parameters need to be defined before any calculation. When *changeParameteres* is executed the binomial frequency distribution is estimated for the given sample size ($n$) and background selection ($B$) values. If $B$, $N$ or $n$ are changed the binomial will need to be executed again. I added an argument in order to estimate or not the binomial depending in the changes introduced ($binomial = bool$)."
   ]
  },
  {
   "cell_type": "code",
   "execution_count": 3,
   "metadata": {},
   "outputs": [
    {
     "name": "stdout",
     "output_type": "stream",
     "text": [
      "  0.599474 seconds (1.96 M allocations: 110.656 MiB, 6.25% gc time)\n"
     ]
    },
    {
     "data": {
      "text/plain": [
       "501×1000 Array{Float64,2}:\n",
       " 1.0  0.606075     0.367143     0.222293     …  0.0          0.0          0.0\n",
       " 0.0  0.303645     0.368248     0.334778        0.0          0.0          0.0\n",
       " 0.0  0.0759112    0.184308     0.251588        0.0          0.0          0.0\n",
       " 0.0  0.0126265    0.0613745    0.125794        0.0          0.0          0.0\n",
       " 0.0  0.00157199   0.0152975    0.047078        0.0          0.0          0.0\n",
       " 0.0  0.000156254  0.00304415   0.0140667    …  0.0          0.0          0.0\n",
       " 0.0  1.29168e-5   0.000503796  0.00349548      0.0          0.0          0.0\n",
       " 0.0  9.13382e-7   7.13212e-5   0.000743016     0.0          0.0          0.0\n",
       " 0.0  5.63999e-8   8.81678e-6   0.000137917     0.0          0.0          0.0\n",
       " 0.0  3.08938e-9   9.66869e-7   2.27092e-5      0.0          0.0          0.0\n",
       " 0.0  1.51992e-10  9.52322e-8   3.3585e-6    …  0.0          0.0          0.0\n",
       " 0.0  6.78414e-12  8.50986e-9   4.5062e-7       0.0          0.0          0.0\n",
       " 0.0  2.77008e-13  6.9564e-10   5.53095e-8      0.0          0.0          0.0\n",
       " ⋮                                           ⋱                               \n",
       " 0.0  0.0          0.0          0.0             8.50986e-9   6.78414e-12  0.0\n",
       " 0.0  0.0          0.0          0.0          …  9.52322e-8   1.51992e-10  0.0\n",
       " 0.0  0.0          0.0          0.0             9.66869e-7   3.08938e-9   0.0\n",
       " 0.0  0.0          0.0          0.0             8.81678e-6   5.63999e-8   0.0\n",
       " 0.0  0.0          0.0          0.0             7.13212e-5   9.13382e-7   0.0\n",
       " 0.0  0.0          0.0          0.0             0.000503796  1.29168e-5   0.0\n",
       " 0.0  0.0          0.0          0.0          …  0.00304415   0.000156254  0.0\n",
       " 0.0  0.0          0.0          0.0             0.0152975    0.00157199   0.0\n",
       " 0.0  0.0          0.0          0.0             0.0613745    0.0126265    0.0\n",
       " 0.0  0.0          0.0          0.0             0.184308     0.0759112    0.0\n",
       " 0.0  0.0          0.0          0.0             0.368248     0.303645     0.0\n",
       " 0.0  0.0          0.0          0.0          …  0.367143     0.606075     1.0"
      ]
     },
     "execution_count": 3,
     "metadata": {},
     "output_type": "execute_result"
    }
   ],
   "source": [
    "@time Analytical.changeParameters(gam_neg=-83,gL=10,gH=500,alLow=0.2,alTot=0.2,theta_f=1e-3,theta_mid_neutral=1e-3,al=0.184,be=0.000402,B=0.999,pposL=0.001,pposH=0,N=500,n=250,Lf=10^6,L_mid=501,rho=0.001,al2= 0.0415,be2=0.00515625,TE=5.0,ABC=false,binomial=true)"
   ]
  },
  {
   "cell_type": "code",
   "execution_count": 6,
   "metadata": {},
   "outputs": [
    {
     "data": {
      "text/plain": [
       "analyticalTime (generic function with 1 method)"
      ]
     },
     "execution_count": 6,
     "metadata": {},
     "output_type": "execute_result"
    }
   ],
   "source": [
    "function analyticalTime()\n",
    "    Analytical.set_theta_f()\n",
    "    theta_f = adap.theta_f\n",
    "    adap.B = 0.999\n",
    "    Analytical.set_theta_f()\n",
    "    Analytical.setPpos()\n",
    "    adap.theta_f = theta_f\n",
    "    adap.B = 0.999\n",
    "\n",
    "    pos, nopos = Analytical.alphaByFrequencies(adap.gL,adap.gH,adap.pposL,adap.pposH,\"both\")\n",
    "end"
   ]
  },
  {
   "cell_type": "code",
   "execution_count": 7,
   "metadata": {},
   "outputs": [
    {
     "name": "stdout",
     "output_type": "stream",
     "text": [
      "  5.322 ms (90694 allocations: 1.57 MiB)\n"
     ]
    },
    {
     "data": {
      "text/plain": [
       "([-0.450096, -0.345256, -0.278563, -0.235798, -0.205494, -0.182307, -0.163661, -0.148149, -0.134919, -0.123421  …  0.0224547, 0.0209377, 0.0193944, 0.0178243, 0.0162273, 0.0146029, 0.0129516, 0.0112747, 0.00957762, 0.0078863], [-0.434604, -0.329051, -0.261798, -0.218591, -0.187915, -0.164401, -0.145461, -0.129678, -0.116197, -0.104463  …  0.201073, 0.201193, 0.201313, 0.201433, 0.201552, 0.201671, 0.20179, 0.201908, 0.202025, 0.20214])"
      ]
     },
     "execution_count": 7,
     "metadata": {},
     "output_type": "execute_result"
    }
   ],
   "source": [
    "@btime analyticalTime(gam_neg=-83,gL=10,gH=500,alLow=0.2,alTot=0.2,theta_f=1e-3,theta_mid_neutral=1e-3,al=0.184,be=0.000402,B=0.999,pposL=0.001,pposH=0,N=500,n=250,Lf=10^6,L_mid=501,rho=0.001,al2= 0.0415,be2=0.00515625,TE=5.0,ABC=false,binomial=true)"
   ]
  },
  {
   "cell_type": "markdown",
   "metadata": {},
   "source": [
    "Take into account the original values the analysis is performed in 5.3ms when the binomial sampling is already executed. The binomial sampling only need to be execute once per $B$ value, since we are going to execute the summary statistics with fixed population and sampling size. I present bellow the time execution when the binomial is estimated within the analysis."
   ]
  },
  {
   "cell_type": "code",
   "execution_count": 20,
   "metadata": {},
   "outputs": [
    {
     "data": {
      "text/plain": [
       "analyticalTime (generic function with 1 method)"
      ]
     },
     "execution_count": 20,
     "metadata": {},
     "output_type": "execute_result"
    }
   ],
   "source": [
    "function analyticalTime(;bgs,al,alweak,gam,popsize,sample,lCoding,lNonCoding,gamWeak,gamStrong,binomial)\n",
    "    \n",
    "    Analytical.changeParameters(B=bgs,gam_neg=gam,theta_f=0.001,alLow=alweak,alTot=al,L_mid=lCoding,Lf=lNonCoding,N=popsize,gL=10,n=sample,gH=500,binomial=binomial)\n",
    "    \n",
    "    Analytical.set_theta_f()\n",
    "    theta_f = adap.theta_f\n",
    "    adap.B = 0.999\n",
    "    Analytical.set_theta_f()\n",
    "    Analytical.setPpos()\n",
    "    adap.theta_f = theta_f\n",
    "    adap.B = 0.999\n",
    "\n",
    "    pos, nopos = Analytical.alphaByFrequencies(adap.gL,adap.gH,adap.pposL,adap.pposH,\"both\")\n",
    "end"
   ]
  },
  {
   "cell_type": "code",
   "execution_count": 21,
   "metadata": {},
   "outputs": [
    {
     "name": "stdout",
     "output_type": "stream",
     "text": [
      "  74.527 ms (92765 allocations: 9.30 MiB)\n"
     ]
    },
    {
     "data": {
      "text/plain": [
       "([-0.450096, -0.345256, -0.278563, -0.235798, -0.205494, -0.182307, -0.163661, -0.148149, -0.134919, -0.123421  …  0.0224547, 0.0209377, 0.0193944, 0.0178243, 0.0162273, 0.0146029, 0.0129516, 0.0112747, 0.00957762, 0.0078863], [-0.434604, -0.329051, -0.261798, -0.218591, -0.187915, -0.164401, -0.145461, -0.129678, -0.116197, -0.104463  …  0.201073, 0.201193, 0.201313, 0.201433, 0.201552, 0.201671, 0.20179, 0.201908, 0.202025, 0.20214])"
      ]
     },
     "execution_count": 21,
     "metadata": {},
     "output_type": "execute_result"
    }
   ],
   "source": [
    "@btime analyticalTime(bgs=0.999,al=0.2,alweak=0.2,gam=-83,popsize=500,sample=250,lCoding=501,lNonCoding=10^6,gamWeak=10,gamStrong=500,binomial=true)"
   ]
  },
  {
   "cell_type": "markdown",
   "metadata": {},
   "source": [
    "#### Changing gamma values"
   ]
  },
  {
   "cell_type": "code",
   "execution_count": 22,
   "metadata": {},
   "outputs": [
    {
     "name": "stdout",
     "output_type": "stream",
     "text": [
      "  3.891 ms (90737 allocations: 1.57 MiB)\n"
     ]
    },
    {
     "data": {
      "text/plain": [
       "([-0.450096, -0.345257, -0.278563, -0.235798, -0.205494, -0.182307, -0.163661, -0.148149, -0.134919, -0.123421  …  0.0224547, 0.0209377, 0.0193944, 0.0178243, 0.0162272, 0.0146029, 0.0129516, 0.0112746, 0.0095776, 0.00788628], [-0.434604, -0.329051, -0.261798, -0.218591, -0.187915, -0.164401, -0.145461, -0.129678, -0.116197, -0.104463  …  0.201073, 0.201193, 0.201313, 0.201433, 0.201552, 0.201671, 0.20179, 0.201908, 0.202025, 0.20214])"
      ]
     },
     "execution_count": 22,
     "metadata": {},
     "output_type": "execute_result"
    }
   ],
   "source": [
    "@btime analyticalTime(bgs=0.999,al=0.2,alweak=0.2,gam=-200,popsize=500,sample=250,lCoding=501,lNonCoding=10^6,gamWeak=10,gamStrong=500,binomial=false)"
   ]
  },
  {
   "cell_type": "code",
   "execution_count": 25,
   "metadata": {},
   "outputs": [
    {
     "name": "stdout",
     "output_type": "stream",
     "text": [
      "  4.598 ms (78587 allocations: 1.36 MiB)\n",
      "  6.198 ms (90737 allocations: 1.57 MiB)\n",
      "  5.039 ms (90737 allocations: 1.57 MiB)\n",
      "  5.651 ms (90737 allocations: 1.57 MiB)\n"
     ]
    },
    {
     "data": {
      "text/plain": [
       "([-0.450096, -0.345257, -0.278563, -0.235798, -0.205494, -0.182307, -0.163661, -0.148149, -0.134919, -0.123421  …  0.0224547, 0.0209377, 0.0193944, 0.0178243, 0.0162272, 0.0146029, 0.0129516, 0.0112746, 0.0095776, 0.00788628], [-0.434604, -0.329051, -0.261798, -0.218591, -0.187915, -0.164401, -0.145461, -0.129678, -0.116197, -0.104463  …  0.201073, 0.201193, 0.201313, 0.201433, 0.201552, 0.201671, 0.20179, 0.201908, 0.202025, 0.20214])"
      ]
     },
     "execution_count": 25,
     "metadata": {},
     "output_type": "execute_result"
    }
   ],
   "source": [
    "@btime analyticalTime(bgs=0.999,al=0.2,alweak=0.2,gam=-200,popsize=500,sample=250,lCoding=501,lNonCoding=10^6,gamWeak=10,gamStrong=500,binomial=false)\n",
    "@btime analyticalTime(bgs=0.999,al=0.2,alweak=0.2,gam=-83,popsize=500,sample=250,lCoding=501,lNonCoding=10^6,gamWeak=20,gamStrong=500,binomial=false)\n",
    "@btime analyticalTime(bgs=0.999,al=0.2,alweak=0.2,gam=-83,popsize=500,sample=250,lCoding=501,lNonCoding=10^6,gamWeak=10,gamStrong=400,binomial=false)\n",
    "@btime analyticalTime(bgs=0.999,al=0.2,alweak=0.2,gam=-200,popsize=500,sample=250,lCoding=501,lNonCoding=10^6,gamWeak=40,gamStrong=600,binomial=false)"
   ]
  },
  {
   "cell_type": "markdown",
   "metadata": {},
   "source": [
    "#### Reducing Ne in a half"
   ]
  },
  {
   "cell_type": "code",
   "execution_count": 27,
   "metadata": {},
   "outputs": [
    {
     "name": "stdout",
     "output_type": "stream",
     "text": [
      "  33.399 ms (68535 allocations: 5.04 MiB)\n"
     ]
    },
    {
     "data": {
      "text/plain": [
       "([-0.409011, -0.337543, -0.278013, -0.235809, -0.205472, -0.182283, -0.163643, -0.148136, -0.134911, -0.123417  …  0.0209446, 0.019416, 0.0178618, 0.0162821, 0.0146771, 0.013048, 0.0113976, 0.00973411, 0.00808526, 0.00653362], [-0.39318, -0.321148, -0.261084, -0.218434, -0.187722, -0.164202, -0.145266, -0.129486, -0.116007, -0.104275  …  0.201206, 0.201326, 0.201445, 0.201564, 0.201683, 0.201802, 0.201919, 0.202035, 0.202148, 0.202253])"
      ]
     },
     "execution_count": 27,
     "metadata": {},
     "output_type": "execute_result"
    }
   ],
   "source": [
    "@btime analyticalTime(bgs=0.999,al=0.2,alweak=0.2,gam=-200,popsize=250,sample=250,lCoding=501,lNonCoding=10^6,gamWeak=10,gamStrong=500,binomial=true)"
   ]
  },
  {
   "cell_type": "markdown",
   "metadata": {},
   "source": [
    "#### Reducing n in a half"
   ]
  },
  {
   "cell_type": "code",
   "execution_count": 28,
   "metadata": {},
   "outputs": [
    {
     "name": "stdout",
     "output_type": "stream",
     "text": [
      "  36.602 ms (86015 allocations: 5.34 MiB)\n"
     ]
    },
    {
     "data": {
      "text/plain": [
       "([-0.382374, -0.262983, -0.199288, -0.160156, -0.132654, -0.111703, -0.0949131, -0.0809844, -0.0691346, -0.0588587  …  0.0398371, 0.0373813, 0.0348427, 0.0322179, 0.0295037, 0.0266965, 0.0237931, 0.0207903, 0.0176869, 0.0144921], [-0.366426, -0.246035, -0.18161, -0.141898, -0.113899, -0.0925054, -0.075312, -0.0610085, -0.0488064, -0.0381962  …  0.199497, 0.199743, 0.199989, 0.200233, 0.200476, 0.200718, 0.200959, 0.201198, 0.201437, 0.201673])"
      ]
     },
     "execution_count": 28,
     "metadata": {},
     "output_type": "execute_result"
    }
   ],
   "source": [
    "@btime analyticalTime(bgs=0.999,al=0.2,alweak=0.2,gam=-200,popsize=500,sample=125,lCoding=501,lNonCoding=10^6,gamWeak=10,gamStrong=500,binomial=true) "
   ]
  },
  {
   "cell_type": "markdown",
   "metadata": {},
   "source": [
    "#### Duplicating Ne and n values"
   ]
  },
  {
   "cell_type": "code",
   "execution_count": 31,
   "metadata": {},
   "outputs": [
    {
     "name": "stdout",
     "output_type": "stream",
     "text": [
      "  260.620 ms (163658 allocations: 33.50 MiB)\n"
     ]
    },
    {
     "data": {
      "text/plain": [
       "([-0.549129, -0.437329, -0.3658, -0.319463, -0.286373, -0.260923, -0.240383, -0.223246, -0.208597, -0.195841  …  0.012985, 0.012142, 0.0112915, 0.0104337, 0.00956857, 0.00869617, 0.00781685, 0.00693154, 0.00604329, 0.00516539], [-0.534198, -0.421821, -0.349848, -0.303167, -0.26979, -0.244091, -0.22333, -0.205991, -0.191156, -0.178225  …  0.20178, 0.201839, 0.201899, 0.201958, 0.202017, 0.202076, 0.202135, 0.202194, 0.202252, 0.20231])"
      ]
     },
     "execution_count": 31,
     "metadata": {},
     "output_type": "execute_result"
    }
   ],
   "source": [
    "@btime analyticalTime(bgs=0.999,al=0.2,alweak=0.2,gam=-83,popsize=1000,sample=500,lCoding=501,lNonCoding=10^6,gamWeak=10,gamStrong=500,binomial=true)"
   ]
  },
  {
   "cell_type": "code",
   "execution_count": 32,
   "metadata": {},
   "outputs": [
    {
     "name": "stdout",
     "output_type": "stream",
     "text": [
      "  12.214 ms (157627 allocations: 2.77 MiB)\n"
     ]
    },
    {
     "data": {
      "text/plain": [
       "([-0.549129, -0.437329, -0.3658, -0.319463, -0.286373, -0.260923, -0.240383, -0.223246, -0.208597, -0.195841  …  0.012985, 0.012142, 0.0112915, 0.0104337, 0.00956857, 0.00869617, 0.00781685, 0.00693154, 0.00604329, 0.00516539], [-0.534198, -0.421821, -0.349848, -0.303167, -0.26979, -0.244091, -0.22333, -0.205991, -0.191156, -0.178225  …  0.20178, 0.201839, 0.201899, 0.201958, 0.202017, 0.202076, 0.202135, 0.202194, 0.202252, 0.20231])"
      ]
     },
     "execution_count": 32,
     "metadata": {},
     "output_type": "execute_result"
    }
   ],
   "source": [
    "@btime analyticalTime(bgs=0.999,al=0.2,alweak=0.2,gam=-83,popsize=1000,sample=500,lCoding=501,lNonCoding=10^6,gamWeak=10,gamStrong=500,binomial=false)"
   ]
  },
  {
   "cell_type": "markdown",
   "metadata": {},
   "source": [
    "#### Reducing length in a half"
   ]
  },
  {
   "cell_type": "code",
   "execution_count": 33,
   "metadata": {},
   "outputs": [
    {
     "data": {
      "text/plain": [
       "([-0.450096, -0.345257, -0.278563, -0.235798, -0.205494, -0.182307, -0.163661, -0.148149, -0.134919, -0.123421  …  0.0224547, 0.0209377, 0.0193944, 0.0178243, 0.0162272, 0.0146029, 0.0129516, 0.0112746, 0.0095776, 0.00788628], [-0.434604, -0.329051, -0.261798, -0.218591, -0.187915, -0.164401, -0.145461, -0.129678, -0.116197, -0.104463  …  0.201073, 0.201193, 0.201313, 0.201433, 0.201552, 0.201671, 0.20179, 0.201908, 0.202025, 0.20214])"
      ]
     },
     "execution_count": 33,
     "metadata": {},
     "output_type": "execute_result"
    }
   ],
   "source": [
    "analyticalTime(bgs=0.999,al=0.2,alweak=0.2,gam=-200,popsize=500,sample=250,lCoding=501,lNonCoding=10^6,gamWeak=10,gamStrong=500,binomial=true)"
   ]
  },
  {
   "cell_type": "code",
   "execution_count": 35,
   "metadata": {},
   "outputs": [
    {
     "name": "stdout",
     "output_type": "stream",
     "text": [
      "  5.061 ms (90633 allocations: 1.57 MiB)\n"
     ]
    },
    {
     "data": {
      "text/plain": [
       "([-0.450097, -0.345257, -0.278563, -0.235798, -0.205495, -0.182307, -0.163661, -0.148149, -0.134919, -0.123421  …  0.0224545, 0.0209375, 0.0193942, 0.0178241, 0.016227, 0.0146027, 0.0129514, 0.0112745, 0.00957741, 0.00788609], [-0.434604, -0.329052, -0.261798, -0.218591, -0.187915, -0.164401, -0.145461, -0.129678, -0.116197, -0.104463  …  0.201073, 0.201193, 0.201313, 0.201433, 0.201552, 0.201671, 0.20179, 0.201908, 0.202025, 0.20214])"
      ]
     },
     "execution_count": 35,
     "metadata": {},
     "output_type": "execute_result"
    }
   ],
   "source": [
    "@btime analyticalTime(bgs=0.999,al=0.2,alweak=0.2,gam=-200,popsize=500,sample=250,lCoding=501,lNonCoding=5*10^5,gamWeak=10,gamStrong=500,binomial=false)"
   ]
  },
  {
   "cell_type": "markdown",
   "metadata": {},
   "source": [
    "#### Duplicating length values"
   ]
  },
  {
   "cell_type": "code",
   "execution_count": 36,
   "metadata": {},
   "outputs": [
    {
     "name": "stdout",
     "output_type": "stream",
     "text": [
      "  6.255 ms (90740 allocations: 1.57 MiB)\n"
     ]
    },
    {
     "data": {
      "text/plain": [
       "([-0.450096, -0.345256, -0.278563, -0.235798, -0.205494, -0.182307, -0.163661, -0.148148, -0.134919, -0.123421  …  0.0224548, 0.0209378, 0.0193945, 0.0178245, 0.0162274, 0.0146031, 0.0129517, 0.0112748, 0.00957774, 0.00788642], [-0.434604, -0.329051, -0.261798, -0.21859, -0.187914, -0.164401, -0.145461, -0.129678, -0.116197, -0.104463  …  0.201073, 0.201193, 0.201313, 0.201433, 0.201552, 0.201672, 0.20179, 0.201908, 0.202026, 0.20214])"
      ]
     },
     "execution_count": 36,
     "metadata": {},
     "output_type": "execute_result"
    }
   ],
   "source": [
    "@btime analyticalTime(bgs=0.999,al=0.2,alweak=0.2,gam=-200,popsize=500,sample=250,lCoding=1002,lNonCoding=2*10^6,gamWeak=10,gamStrong=500,binomial=false)"
   ]
  },
  {
   "cell_type": "markdown",
   "metadata": {},
   "source": [
    "### Exploring computation times on one-by-one"
   ]
  },
  {
   "cell_type": "code",
   "execution_count": 37,
   "metadata": {},
   "outputs": [
    {
     "name": "stdout",
     "output_type": "stream",
     "text": [
      "  7.720 μs (288 allocations: 5.64 KiB)\n",
      "  7.701 μs (288 allocations: 5.64 KiB)\n",
      "  1.160 ms (51371 allocations: 823.14 KiB)\n",
      "  2.942 ms (38740 allocations: 777.36 KiB)\n"
     ]
    },
    {
     "data": {
      "text/plain": [
       "([-0.450096, -0.345256, -0.278563, -0.235798, -0.205494, -0.182307, -0.163661, -0.148148, -0.134919, -0.123421  …  0.0224548, 0.0209378, 0.0193945, 0.0178245, 0.0162274, 0.0146031, 0.0129517, 0.0112748, 0.00957774, 0.00788642], [-0.434604, -0.329051, -0.261798, -0.21859, -0.187914, -0.164401, -0.145461, -0.129678, -0.116197, -0.104463  …  0.201073, 0.201193, 0.201313, 0.201433, 0.201552, 0.201672, 0.20179, 0.201908, 0.202026, 0.20214])"
      ]
     },
     "execution_count": 37,
     "metadata": {},
     "output_type": "execute_result"
    }
   ],
   "source": [
    "@btime Analytical.set_theta_f()\n",
    "theta_f = adap.theta_f\n",
    "adap.B = 0.999\n",
    "@btime Analytical.set_theta_f()\n",
    "@btime Analytical.setPpos()\n",
    "adap.theta_f = theta_f\n",
    "adap.B = 0.999\n",
    "@btime pos, nopos = Analytical.alphaByFrequencies(adap.gL,adap.gH,adap.pposL,adap.pposH,\"both\")"
   ]
  },
  {
   "cell_type": "markdown",
   "metadata": {},
   "source": [
    "Currently *setPpos()* is one of the slowest function. It is still performed using *scipy.optimize.fsolve*. I tried several methods to find the roots and the default is the faster. In addition I implemented a julia version to solve the equation system using *NLsolve.jl* which is slower than *scipy* too."
   ]
  },
  {
   "cell_type": "code",
   "execution_count": 38,
   "metadata": {},
   "outputs": [
    {
     "name": "stdout",
     "output_type": "stream",
     "text": [
      "  152.660 ns (7 allocations: 112 bytes)\n",
      "  1.228 μs (40 allocations: 640 bytes)\n",
      "  901.561 ns (43 allocations: 688 bytes)\n",
      "  16.034 μs (1046 allocations: 16.34 KiB)\n",
      "  78.810 μs (22 allocations: 32.44 KiB)\n",
      "  1.450 μs (5 allocations: 12.23 KiB)\n",
      "  380.958 μs (5552 allocations: 150.39 KiB)\n",
      "  1.106 ms (18536 allocations: 329.73 KiB)\n"
     ]
    },
    {
     "data": {
      "text/plain": [
       "500-element Array{Float64,1}:\n",
       " 0.0020192075325289154\n",
       " 0.0016506235979820293\n",
       " 0.001434335298737289 \n",
       " 0.0012979682467078957\n",
       " 0.0012014814347295455\n",
       " 0.0011276633743932598\n",
       " 0.0010683029032469678\n",
       " 0.0010189094099095238\n",
       " 0.0009767725629925175\n",
       " 0.0009401376126760302\n",
       " 0.0009078068772816744\n",
       " 0.0008789284394524372\n",
       " 0.0008528758812960313\n",
       " ⋮                    \n",
       " 3.815844361748628e-6 \n",
       " 3.464238562166509e-6 \n",
       " 3.1134560762034186e-6\n",
       " 2.7634933056756003e-6\n",
       " 2.41434667536205e-6  \n",
       " 2.066012632200055e-6 \n",
       " 1.7184876550853603e-6\n",
       " 1.371768375083796e-6 \n",
       " 1.0258501736459469e-6\n",
       " 6.807034273707759e-7 \n",
       " 3.364669597066985e-7 \n",
       " 0.0                  "
      ]
     },
     "execution_count": 38,
     "metadata": {},
     "output_type": "execute_result"
    }
   ],
   "source": [
    "# Fixation\n",
    "@btime fN    = adap.B*Analytical.fixNeut()\n",
    "@btime fNeg  = adap.B*Analytical.fixNegB(0.5*adap.pposH+0.5*adap.pposL)\n",
    "@btime fPosL = Analytical.fixPosSim(adap.gL,0.5*adap.pposL)\n",
    "@btime fPosH = Analytical.fixPosSim(adap.gH,0.5*adap.pposH)\n",
    "\n",
    "# Polymorphism\n",
    "@btime neut = Analytical.cumulativeSfs(Analytical.DiscSFSNeutDown())\n",
    "@btime selH = Analytical.cumulativeSfs(Analytical.DiscSFSSelPosDown(adap.gH,adap.pposH))\n",
    "@btime selL = Analytical.cumulativeSfs(Analytical.DiscSFSSelPosDown(adap.gL,adap.pposL))\n",
    "@btime selN = Analytical.cumulativeSfs(Analytical.DiscSFSSelNegDown(adap.pposH+adap.pposL))"
   ]
  },
  {
   "cell_type": "markdown",
   "metadata": {},
   "source": [
    "We we're able to reduce *DiscSFSSelNegDown()* from $1.13s$ to $1.106ms$"
   ]
  }
 ],
 "metadata": {
  "kernelspec": {
   "display_name": "Julia 1.0.3",
   "language": "julia",
   "name": "julia-1.0"
  },
  "language_info": {
   "file_extension": ".jl",
   "mimetype": "application/julia",
   "name": "julia",
   "version": "1.0.3"
  }
 },
 "nbformat": 4,
 "nbformat_minor": 4
}
